{
 "cells": [
  {
   "cell_type": "markdown",
   "metadata": {},
   "source": [
    "### 1. 컴퓨터 정수/이진수"
   ]
  },
  {
   "cell_type": "markdown",
   "metadata": {},
   "source": [
    "### 컴퓨터에서의 수 체계\n",
    "\n",
    "컴퓨터에서는 크게 4가지 수 체계를 사용한다.\n",
    "\n",
    "10진수\n",
    "2진수\n",
    "8진수\n",
    "16진수\n",
    "\n",
    "정수 연산\n",
    "\n",
    "컴퓨터에서 정수는 이진수로 표현되는데, 이때 음수는 2의 보수로 표현된다.\n",
    "\n",
    "출처\n",
    "https://skyil.tistory.com/141\n",
    "    \n",
    "    \n",
    "    \n",
    "1\n",
    "바꾸고 싶은 이진수를 찾으세요. 이 수를 예로 들겠습니다: 101010.\n",
    "    \n",
    "2\n",
    "각 이진수 자릿수를 2의 자리 번호만큼 제곱한 값과 곱하세요. 명심하세요. 이진수는 “오른쪽에서 왼쪽으로” 읽습니다. 가장 오른쪽 자리숫자는 0입니다.\n",
    "    \n",
    "3\n",
    "모든 결과 값을 더하세요. 오른쪽에서 왼쪽으로 가봅시다.\n",
    "0 × 20 = 0\n",
    "1 × 21 = 2\n",
    "0 × 22 = 0\n",
    "1 × 23 = 8\n",
    "0 × 24 = 0\n",
    "1 × 25 = 32\n",
    "결과= 42\n",
    "    \n",
    "    \n",
    "https://ko.wikihow.com/이진수-읽는-법"
   ]
  },
  {
   "cell_type": "code",
   "execution_count": 1,
   "metadata": {},
   "outputs": [
    {
     "name": "stdout",
     "output_type": "stream",
     "text": [
      "--------------------\n",
      "a :77\n",
      "b :17\n",
      "c :41\n",
      "d :31\n",
      "e :128\n",
      "f :17\n",
      "g :20\n",
      "h :42\n",
      "i :85\n",
      "j :1\n",
      "k :9\n",
      "l :49\n",
      "m :27\n",
      "n :87\n",
      "o :111\n",
      "p :41\n",
      "q :0\n",
      "r :77\n",
      "s :59\n",
      "t :105\n",
      "u :18\n",
      "v :15\n",
      "w :17\n",
      "x :3\n",
      "y :30\n",
      "z :1\n"
     ]
    }
   ],
   "source": [
    "abc = \"You should check for DeprecationWarning in your codeWhen Python 2.7 was still supported, a lot of functionality in Python 3 was kept for backward compatibility with Python 2.7. With the end of Python 2 support, these backward compatibility layers have been removed, or will be removed soon. Most of them emitted a DeprecationWarning warning for several years. For example, using collections.Mapping instead of collections.abc.Mapping emits a DeprecationWarning since Python 3.3, released in 2012.Test your application with the -W default command-line option to see DeprecationWarning and PendingDeprecationWarning, or even with -W error to treat them as errors. Warnings Filter can be used to ignore warnings from third-party code.Python 3.9 is the last version providing those Python 2 backward compatibility layers, to give more time to Python projects maintainers to organize the removal of the Python 2 suppot and add support for Python 3.9.Aliases to Abstract Base Classes in the collections module, like collections.Mapping alias to collections.abc.Mapping, are kept for one last release for backward compatibility. They will be removed from Python 3.10.More generally, try to run your tests in the Python Development Mode which helps to prepare your code to make it compatible with the next Python version. Note: a number of pre-existing deprecations were removed in this version of Python as well. Consult the Removed section.\"\n",
    "\n",
    "eng = 'abcdefghijklmnopqrstuvwxyz'\n",
    "\n",
    "print('-'*20)\n",
    "\n",
    "for data in eng:\n",
    "    print(data,':', end=\"\")\n",
    "    print(abc.count(data))"
   ]
  },
  {
   "cell_type": "code",
   "execution_count": 2,
   "metadata": {},
   "outputs": [
    {
     "name": "stdin",
     "output_type": "stream",
     "text": [
      "첫 번째 수를 입력하세요:  8\n",
      "두 번째 수를 입력하세요:  20\n"
     ]
    },
    {
     "name": "stdout",
     "output_type": "stream",
     "text": [
      "8와 20의 최소공배수 : 40\n"
     ]
    }
   ],
   "source": [
    "# 연습문제 7-6\n",
    "def minmultiple(x, y):\n",
    "    if x > y :\n",
    "        big = x\n",
    "    else:\n",
    "        big = y\n",
    "\n",
    "    while(True):\n",
    "        if((big % x == 0) and (big % y == 0)):\n",
    "            result = big\n",
    "            break\n",
    "        big = big + 1\n",
    "\n",
    "    return result\n",
    "\n",
    "num1 = int(input(\"첫 번째 수를 입력하세요: \"))\n",
    "num2 = int(input(\"두 번째 수를 입력하세요: \"))\n",
    "\n",
    "min_gong = minmultiple(num1, num2)\n",
    "\n",
    "print('%d와 %d의 최소공배수 : %d' % (num1, num2, min_gong))"
   ]
  },
  {
   "cell_type": "code",
   "execution_count": 5,
   "metadata": {},
   "outputs": [
    {
     "data": {
      "text/plain": [
       "<_io.TextIOWrapper name='sample.txt' mode='w' encoding='utf8'>"
      ]
     },
     "execution_count": 5,
     "metadata": {},
     "output_type": "execute_result"
    }
   ],
   "source": [
    "file = open('sample.txt', 'w', encoding = 'utf8')\n",
    "file\n"
   ]
  },
  {
   "cell_type": "code",
   "execution_count": 6,
   "metadata": {},
   "outputs": [],
   "source": [
    "file = open('sample.txt', 'r', encoding = 'utf8')\n"
   ]
  },
  {
   "cell_type": "code",
   "execution_count": 7,
   "metadata": {},
   "outputs": [
    {
     "data": {
      "text/plain": [
       "[]"
      ]
     },
     "execution_count": 7,
     "metadata": {},
     "output_type": "execute_result"
    }
   ],
   "source": [
    "lines = file.readlines()\n",
    "lines"
   ]
  },
  {
   "cell_type": "code",
   "execution_count": 9,
   "metadata": {},
   "outputs": [],
   "source": [
    "for line in lines:\n",
    "    print(f'{len(line)}: {line} ' , end = \"\")"
   ]
  },
  {
   "cell_type": "code",
   "execution_count": 10,
   "metadata": {},
   "outputs": [],
   "source": [
    "file.close()"
   ]
  },
  {
   "cell_type": "code",
   "execution_count": 13,
   "metadata": {},
   "outputs": [
    {
     "data": {
      "text/plain": [
       "<_io.TextIOWrapper name='sample.txt' mode='a' encoding='utf8'>"
      ]
     },
     "execution_count": 13,
     "metadata": {},
     "output_type": "execute_result"
    }
   ],
   "source": [
    "file = open('sample.txt', 'a', encoding = 'utf8')\n",
    "file"
   ]
  },
  {
   "cell_type": "code",
   "execution_count": 14,
   "metadata": {},
   "outputs": [
    {
     "data": {
      "text/plain": [
       "12"
      ]
     },
     "execution_count": 14,
     "metadata": {},
     "output_type": "execute_result"
    }
   ],
   "source": [
    "file.write(\"파이썬 복습 잘해야지\\n\")\n",
    "file.write(\"즐겁게 하세요!!!!\\n\")"
   ]
  },
  {
   "cell_type": "code",
   "execution_count": 15,
   "metadata": {},
   "outputs": [],
   "source": [
    "file.close()"
   ]
  },
  {
   "cell_type": "code",
   "execution_count": null,
   "metadata": {},
   "outputs": [],
   "source": []
  }
 ],
 "metadata": {
  "kernelspec": {
   "display_name": "Python 3",
   "language": "python",
   "name": "python3"
  },
  "language_info": {
   "codemirror_mode": {
    "name": "ipython",
    "version": 3
   },
   "file_extension": ".py",
   "mimetype": "text/x-python",
   "name": "python",
   "nbconvert_exporter": "python",
   "pygments_lexer": "ipython3",
   "version": "3.8.5"
  }
 },
 "nbformat": 4,
 "nbformat_minor": 4
}
